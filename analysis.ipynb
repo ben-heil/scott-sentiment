{
 "cells": [
  {
   "cell_type": "code",
   "execution_count": 1,
   "metadata": {},
   "outputs": [],
   "source": [
    "import warnings\n",
    "warnings.filterwarnings('ignore')\n",
    "\n",
    "import transformers\n",
    "import pandas as pd\n",
    "import psaw\n",
    "from plotnine import *"
   ]
  },
  {
   "cell_type": "code",
   "execution_count": 2,
   "metadata": {},
   "outputs": [],
   "source": [
    "api = psaw.PushshiftAPI()"
   ]
  },
  {
   "cell_type": "markdown",
   "metadata": {},
   "source": [
    "### Download all comments containing the phrase 'Scott Drew' in r/CollegeBasketball"
   ]
  },
  {
   "cell_type": "code",
   "execution_count": 3,
   "metadata": {},
   "outputs": [
    {
     "name": "stdout",
     "output_type": "stream",
     "text": [
      "1000\n",
      "2000\n"
     ]
    }
   ],
   "source": [
    "gen = api.search_comments(q='\"scott drew\"', subreddit='CollegeBasketball')\n",
    "\n",
    "max_response = 1000000\n",
    "\n",
    "comment_list = []\n",
    "\n",
    "for c in gen:\n",
    "    comment_list.append(c)\n",
    "    \n",
    "    if len(comment_list) % 1000 == 0:\n",
    "        print(len(comment_list))\n",
    "    \n",
    "    if len(comment_list) >  max_response:\n",
    "        break\n",
    "    "
   ]
  },
  {
   "cell_type": "markdown",
   "metadata": {},
   "source": [
    "## Parse the list of comments to store them in a form more usable by pandas"
   ]
  },
  {
   "cell_type": "code",
   "execution_count": 4,
   "metadata": {},
   "outputs": [],
   "source": [
    "comment_dict = {'flair': [], 'time': [], 'is_game_thread': [], \n",
    "                'score': [], 'link': [], 'text': []}\n",
    "\n",
    "for comment in comment_list:\n",
    "    flair = 'None'\n",
    "    if comment.author_flair_css_class is not None:\n",
    "        flair = comment.author_flair_css_class.lower()\n",
    "        \n",
    "        if flair == 'iowast':\n",
    "            flair = 'iowastate'\n",
    "\n",
    "    time = comment.created_utc\n",
    "    score = comment.score\n",
    "\n",
    "    if not hasattr(comment, 'permalink'):\n",
    "        comment_dict['is_game_thread'].append(None)\n",
    "        comment_dict['link'].append(None)\n",
    "    else:\n",
    "        if 'game_thread' in comment.permalink:\n",
    "            comment_dict['is_game_thread'].append(True)\n",
    "        else:\n",
    "            comment_dict['is_game_thread'].append(False)\n",
    "        comment_dict['link'].append(comment.permalink)\n",
    "\n",
    "    comment_dict['flair'].append(flair)\n",
    "    comment_dict['time'].append(time)\n",
    "    comment_dict['score'].append(score)\n",
    "    comment_dict['text'].append(comment.body)\n",
    "\n",
    "# Remove numbers from alt flairs\n",
    "for i in range(len(comment_dict['flair'])):\n",
    "    comment_dict['flair'][i] = comment_dict['flair'][i].rstrip('0123456789')\n",
    "    \n",
    "comment_df = pd.DataFrame.from_dict(comment_dict)"
   ]
  },
  {
   "cell_type": "code",
   "execution_count": 5,
   "metadata": {},
   "outputs": [],
   "source": [
    "# Convert seconds since 1970 to something readable\n",
    "comment_df['time'] = pd.to_datetime(comment_df['time'], unit='s')"
   ]
  },
  {
   "cell_type": "code",
   "execution_count": 6,
   "metadata": {},
   "outputs": [
    {
     "data": {
      "text/html": [
       "<div>\n",
       "<style scoped>\n",
       "    .dataframe tbody tr th:only-of-type {\n",
       "        vertical-align: middle;\n",
       "    }\n",
       "\n",
       "    .dataframe tbody tr th {\n",
       "        vertical-align: top;\n",
       "    }\n",
       "\n",
       "    .dataframe thead th {\n",
       "        text-align: right;\n",
       "    }\n",
       "</style>\n",
       "<table border=\"1\" class=\"dataframe\">\n",
       "  <thead>\n",
       "    <tr style=\"text-align: right;\">\n",
       "      <th></th>\n",
       "      <th>flair</th>\n",
       "      <th>time</th>\n",
       "      <th>is_game_thread</th>\n",
       "      <th>score</th>\n",
       "      <th>link</th>\n",
       "      <th>text</th>\n",
       "    </tr>\n",
       "  </thead>\n",
       "  <tbody>\n",
       "    <tr>\n",
       "      <th>0</th>\n",
       "      <td>gonzaga</td>\n",
       "      <td>2021-04-06 17:55:32</td>\n",
       "      <td>False</td>\n",
       "      <td>1</td>\n",
       "      <td>/r/CollegeBasketball/comments/mlgzky/now_that_...</td>\n",
       "      <td>In no particular order:\\n\\n1. K\\n2. Jay Wright...</td>\n",
       "    </tr>\n",
       "    <tr>\n",
       "      <th>1</th>\n",
       "      <td>cincinnati</td>\n",
       "      <td>2021-04-06 17:29:56</td>\n",
       "      <td>False</td>\n",
       "      <td>1</td>\n",
       "      <td>/r/CollegeBasketball/comments/mlgw8l/should_th...</td>\n",
       "      <td>Mark Few vs Scott Drew, no rules cagematch Sat...</td>\n",
       "    </tr>\n",
       "    <tr>\n",
       "      <th>2</th>\n",
       "      <td>auburn</td>\n",
       "      <td>2021-04-06 16:09:02</td>\n",
       "      <td>True</td>\n",
       "      <td>1</td>\n",
       "      <td>/r/CollegeBasketball/comments/ml2h57/post_game...</td>\n",
       "      <td>Seeing Timme and Watson guarding Butler, Mitch...</td>\n",
       "    </tr>\n",
       "    <tr>\n",
       "      <th>3</th>\n",
       "      <td>texas</td>\n",
       "      <td>2021-04-06 15:45:58</td>\n",
       "      <td>False</td>\n",
       "      <td>1</td>\n",
       "      <td>/r/CollegeBasketball/comments/ml9fvz/opinion_b...</td>\n",
       "      <td>It was pretty stupid to not think he’s a good ...</td>\n",
       "    </tr>\n",
       "    <tr>\n",
       "      <th>4</th>\n",
       "      <td>kansas</td>\n",
       "      <td>2021-04-06 15:03:36</td>\n",
       "      <td>False</td>\n",
       "      <td>1</td>\n",
       "      <td>/r/CollegeBasketball/comments/mldltu/weekly_po...</td>\n",
       "      <td>lmao scott drew has as many titles as bill self</td>\n",
       "    </tr>\n",
       "  </tbody>\n",
       "</table>\n",
       "</div>"
      ],
      "text/plain": [
       "        flair                time is_game_thread  score  \\\n",
       "0     gonzaga 2021-04-06 17:55:32          False      1   \n",
       "1  cincinnati 2021-04-06 17:29:56          False      1   \n",
       "2      auburn 2021-04-06 16:09:02           True      1   \n",
       "3       texas 2021-04-06 15:45:58          False      1   \n",
       "4      kansas 2021-04-06 15:03:36          False      1   \n",
       "\n",
       "                                                link  \\\n",
       "0  /r/CollegeBasketball/comments/mlgzky/now_that_...   \n",
       "1  /r/CollegeBasketball/comments/mlgw8l/should_th...   \n",
       "2  /r/CollegeBasketball/comments/ml2h57/post_game...   \n",
       "3  /r/CollegeBasketball/comments/ml9fvz/opinion_b...   \n",
       "4  /r/CollegeBasketball/comments/mldltu/weekly_po...   \n",
       "\n",
       "                                                text  \n",
       "0  In no particular order:\\n\\n1. K\\n2. Jay Wright...  \n",
       "1  Mark Few vs Scott Drew, no rules cagematch Sat...  \n",
       "2  Seeing Timme and Watson guarding Butler, Mitch...  \n",
       "3  It was pretty stupid to not think he’s a good ...  \n",
       "4    lmao scott drew has as many titles as bill self  "
      ]
     },
     "execution_count": 6,
     "metadata": {},
     "output_type": "execute_result"
    }
   ],
   "source": [
    "comment_df.head()"
   ]
  },
  {
   "cell_type": "markdown",
   "metadata": {},
   "source": [
    "## Run sentiment analysis"
   ]
  },
  {
   "cell_type": "code",
   "execution_count": 7,
   "metadata": {},
   "outputs": [],
   "source": [
    "# Load a pretrained sentiment-analysis transformer from hugging-face\n",
    "analyzer = transformers.pipeline(\"sentiment-analysis\")"
   ]
  },
  {
   "cell_type": "code",
   "execution_count": 8,
   "metadata": {},
   "outputs": [
    {
     "data": {
      "text/plain": [
       "[{'label': 'NEGATIVE', 'score': 0.914427638053894}]"
      ]
     },
     "execution_count": 8,
     "metadata": {},
     "output_type": "execute_result"
    }
   ],
   "source": [
    "example = \"lmao scott drew has as many titles as bill self\"\n",
    "analyzer(example)"
   ]
  },
  {
   "cell_type": "code",
   "execution_count": 9,
   "metadata": {},
   "outputs": [
    {
     "data": {
      "text/plain": [
       "[{'label': 'POSITIVE', 'score': 0.9998359084129333}]"
      ]
     },
     "execution_count": 9,
     "metadata": {},
     "output_type": "execute_result"
    }
   ],
   "source": [
    "example = \"Hot take, Scott Drew has an amazing recruiting\"\n",
    "analyzer(example)"
   ]
  },
  {
   "cell_type": "code",
   "execution_count": 10,
   "metadata": {},
   "outputs": [],
   "source": [
    "def get_sentiment(row):\n",
    "    return analyzer(row['text'])[0]['label']\n",
    "\n",
    "def get_sentiment_score(row):\n",
    "    return analyzer(row['text'])[0]['score']"
   ]
  },
  {
   "cell_type": "code",
   "execution_count": 11,
   "metadata": {},
   "outputs": [],
   "source": [
    "# Shorten comments to their first 500 characters to fit into the transformer\n",
    "comment_df['text'] = comment_df['text'].apply(lambda x: x[0:500])"
   ]
  },
  {
   "cell_type": "code",
   "execution_count": 12,
   "metadata": {},
   "outputs": [
    {
     "data": {
      "text/html": [
       "<div>\n",
       "<style scoped>\n",
       "    .dataframe tbody tr th:only-of-type {\n",
       "        vertical-align: middle;\n",
       "    }\n",
       "\n",
       "    .dataframe tbody tr th {\n",
       "        vertical-align: top;\n",
       "    }\n",
       "\n",
       "    .dataframe thead th {\n",
       "        text-align: right;\n",
       "    }\n",
       "</style>\n",
       "<table border=\"1\" class=\"dataframe\">\n",
       "  <thead>\n",
       "    <tr style=\"text-align: right;\">\n",
       "      <th></th>\n",
       "      <th>flair</th>\n",
       "      <th>time</th>\n",
       "      <th>is_game_thread</th>\n",
       "      <th>score</th>\n",
       "      <th>link</th>\n",
       "      <th>text</th>\n",
       "      <th>sentiment</th>\n",
       "      <th>sentiment_score</th>\n",
       "    </tr>\n",
       "  </thead>\n",
       "  <tbody>\n",
       "    <tr>\n",
       "      <th>0</th>\n",
       "      <td>gonzaga</td>\n",
       "      <td>2021-04-06 17:55:32</td>\n",
       "      <td>False</td>\n",
       "      <td>1</td>\n",
       "      <td>/r/CollegeBasketball/comments/mlgzky/now_that_...</td>\n",
       "      <td>In no particular order:\\n\\n1. K\\n2. Jay Wright...</td>\n",
       "      <td>NEGATIVE</td>\n",
       "      <td>0.579218</td>\n",
       "    </tr>\n",
       "    <tr>\n",
       "      <th>1</th>\n",
       "      <td>cincinnati</td>\n",
       "      <td>2021-04-06 17:29:56</td>\n",
       "      <td>False</td>\n",
       "      <td>1</td>\n",
       "      <td>/r/CollegeBasketball/comments/mlgw8l/should_th...</td>\n",
       "      <td>Mark Few vs Scott Drew, no rules cagematch Sat...</td>\n",
       "      <td>NEGATIVE</td>\n",
       "      <td>0.634891</td>\n",
       "    </tr>\n",
       "    <tr>\n",
       "      <th>2</th>\n",
       "      <td>auburn</td>\n",
       "      <td>2021-04-06 16:09:02</td>\n",
       "      <td>True</td>\n",
       "      <td>1</td>\n",
       "      <td>/r/CollegeBasketball/comments/ml2h57/post_game...</td>\n",
       "      <td>Seeing Timme and Watson guarding Butler, Mitch...</td>\n",
       "      <td>POSITIVE</td>\n",
       "      <td>0.983041</td>\n",
       "    </tr>\n",
       "    <tr>\n",
       "      <th>3</th>\n",
       "      <td>texas</td>\n",
       "      <td>2021-04-06 15:45:58</td>\n",
       "      <td>False</td>\n",
       "      <td>1</td>\n",
       "      <td>/r/CollegeBasketball/comments/ml9fvz/opinion_b...</td>\n",
       "      <td>It was pretty stupid to not think he’s a good ...</td>\n",
       "      <td>NEGATIVE</td>\n",
       "      <td>0.998341</td>\n",
       "    </tr>\n",
       "    <tr>\n",
       "      <th>4</th>\n",
       "      <td>kansas</td>\n",
       "      <td>2021-04-06 15:03:36</td>\n",
       "      <td>False</td>\n",
       "      <td>1</td>\n",
       "      <td>/r/CollegeBasketball/comments/mldltu/weekly_po...</td>\n",
       "      <td>lmao scott drew has as many titles as bill self</td>\n",
       "      <td>NEGATIVE</td>\n",
       "      <td>0.914428</td>\n",
       "    </tr>\n",
       "  </tbody>\n",
       "</table>\n",
       "</div>"
      ],
      "text/plain": [
       "        flair                time is_game_thread  score  \\\n",
       "0     gonzaga 2021-04-06 17:55:32          False      1   \n",
       "1  cincinnati 2021-04-06 17:29:56          False      1   \n",
       "2      auburn 2021-04-06 16:09:02           True      1   \n",
       "3       texas 2021-04-06 15:45:58          False      1   \n",
       "4      kansas 2021-04-06 15:03:36          False      1   \n",
       "\n",
       "                                                link  \\\n",
       "0  /r/CollegeBasketball/comments/mlgzky/now_that_...   \n",
       "1  /r/CollegeBasketball/comments/mlgw8l/should_th...   \n",
       "2  /r/CollegeBasketball/comments/ml2h57/post_game...   \n",
       "3  /r/CollegeBasketball/comments/ml9fvz/opinion_b...   \n",
       "4  /r/CollegeBasketball/comments/mldltu/weekly_po...   \n",
       "\n",
       "                                                text sentiment  \\\n",
       "0  In no particular order:\\n\\n1. K\\n2. Jay Wright...  NEGATIVE   \n",
       "1  Mark Few vs Scott Drew, no rules cagematch Sat...  NEGATIVE   \n",
       "2  Seeing Timme and Watson guarding Butler, Mitch...  POSITIVE   \n",
       "3  It was pretty stupid to not think he’s a good ...  NEGATIVE   \n",
       "4    lmao scott drew has as many titles as bill self  NEGATIVE   \n",
       "\n",
       "   sentiment_score  \n",
       "0         0.579218  \n",
       "1         0.634891  \n",
       "2         0.983041  \n",
       "3         0.998341  \n",
       "4         0.914428  "
      ]
     },
     "execution_count": 12,
     "metadata": {},
     "output_type": "execute_result"
    }
   ],
   "source": [
    "comment_df['sentiment'] = comment_df.apply(get_sentiment, axis=1)\n",
    "comment_df['sentiment_score'] = comment_df.apply(get_sentiment_score, axis=1)\n",
    "\n",
    "comment_df.head()"
   ]
  },
  {
   "cell_type": "code",
   "execution_count": 13,
   "metadata": {},
   "outputs": [
    {
     "data": {
      "text/plain": [
       "<AxesSubplot:ylabel='Frequency'>"
      ]
     },
     "execution_count": 13,
     "metadata": {},
     "output_type": "execute_result"
    },
    {
     "data": {
      "image/png": "[encoded data removed]",
      "text/plain": [
       "<Figure size 432x288 with 1 Axes>"
      ]
     },
     "metadata": {
      "needs_background": "light"
     },
     "output_type": "display_data"
    }
   ],
   "source": [
    "comment_df['sentiment_score'].plot.hist()"
   ]
  },
  {
   "cell_type": "code",
   "execution_count": 14,
   "metadata": {},
   "outputs": [],
   "source": [
    "# Filter out posts the model is unsure about\n",
    "sentiment_df = comment_df[comment_df['sentiment_score'] >= .9]"
   ]
  },
  {
   "cell_type": "markdown",
   "metadata": {},
   "source": [
    "## Create visualizations"
   ]
  },
  {
   "cell_type": "markdown",
   "metadata": {},
   "source": [
    "### Frequency of Scott Drew mentions over time"
   ]
  },
  {
   "cell_type": "code",
   "execution_count": 15,
   "metadata": {},
   "outputs": [
    {
     "data": {
      "image/png": "[encoded data removed]",
      "text/plain": [
       "<Figure size 640x480 with 1 Axes>"
      ]
     },
     "metadata": {},
     "output_type": "display_data"
    },
    {
     "data": {
      "text/plain": [
       "<ggplot: (8777493090262)>"
      ]
     },
     "execution_count": 15,
     "metadata": {},
     "output_type": "execute_result"
    }
   ],
   "source": [
    "(ggplot(comment_df, aes(x='time')) + \n",
    "    geom_histogram(fill= '#FFBC19', bins=48) + \n",
    "    ggtitle('Scott Drew Posts Over Time') +\n",
    "    ylab('Number of Comments') +\n",
    "    xlab('Comment Date') +\n",
    "    theme_dark() +\n",
    "    theme(axis_text_x=element_text(rotation=90, hjust=1),\n",
    "          panel_grid_minor=element_blank(),\n",
    "          panel_background=element_rect(fill='#003015', color='None')))"
   ]
  },
  {
   "cell_type": "markdown",
   "metadata": {},
   "source": [
    "## Sentiment of Scott Drew mentions over time"
   ]
  },
  {
   "cell_type": "code",
   "execution_count": 16,
   "metadata": {},
   "outputs": [],
   "source": [
    "sentiment_df['year'] = sentiment_df.time.dt.year"
   ]
  },
  {
   "cell_type": "code",
   "execution_count": 17,
   "metadata": {},
   "outputs": [
    {
     "data": {
      "text/html": [
       "<div>\n",
       "<style scoped>\n",
       "    .dataframe tbody tr th:only-of-type {\n",
       "        vertical-align: middle;\n",
       "    }\n",
       "\n",
       "    .dataframe tbody tr th {\n",
       "        vertical-align: top;\n",
       "    }\n",
       "\n",
       "    .dataframe thead th {\n",
       "        text-align: right;\n",
       "    }\n",
       "</style>\n",
       "<table border=\"1\" class=\"dataframe\">\n",
       "  <thead>\n",
       "    <tr style=\"text-align: right;\">\n",
       "      <th></th>\n",
       "      <th>year</th>\n",
       "      <th>sentiment</th>\n",
       "      <th>text</th>\n",
       "    </tr>\n",
       "  </thead>\n",
       "  <tbody>\n",
       "    <tr>\n",
       "      <th>0</th>\n",
       "      <td>2011</td>\n",
       "      <td>NEGATIVE</td>\n",
       "      <td>1</td>\n",
       "    </tr>\n",
       "    <tr>\n",
       "      <th>1</th>\n",
       "      <td>2011</td>\n",
       "      <td>POSITIVE</td>\n",
       "      <td>3</td>\n",
       "    </tr>\n",
       "    <tr>\n",
       "      <th>2</th>\n",
       "      <td>2012</td>\n",
       "      <td>NEGATIVE</td>\n",
       "      <td>44</td>\n",
       "    </tr>\n",
       "    <tr>\n",
       "      <th>3</th>\n",
       "      <td>2012</td>\n",
       "      <td>POSITIVE</td>\n",
       "      <td>11</td>\n",
       "    </tr>\n",
       "    <tr>\n",
       "      <th>4</th>\n",
       "      <td>2013</td>\n",
       "      <td>NEGATIVE</td>\n",
       "      <td>47</td>\n",
       "    </tr>\n",
       "  </tbody>\n",
       "</table>\n",
       "</div>"
      ],
      "text/plain": [
       "   year sentiment  text\n",
       "0  2011  NEGATIVE     1\n",
       "1  2011  POSITIVE     3\n",
       "2  2012  NEGATIVE    44\n",
       "3  2012  POSITIVE    11\n",
       "4  2013  NEGATIVE    47"
      ]
     },
     "execution_count": 17,
     "metadata": {},
     "output_type": "execute_result"
    }
   ],
   "source": [
    "# The text field won't be empty so we can count the number of texts to get the number\n",
    "# of posts with each sentiment in each year\n",
    "sentiment_counts = sentiment_df.groupby(['year', 'sentiment'])['text'].count()\n",
    "sentiment_counts = sentiment_counts.reset_index()\n",
    "sentiment_counts.head()"
   ]
  },
  {
   "cell_type": "code",
   "execution_count": 18,
   "metadata": {},
   "outputs": [
    {
     "data": {
      "image/png": "[encoded data removed]",
      "text/plain": [
       "<Figure size 640x480 with 1 Axes>"
      ]
     },
     "metadata": {},
     "output_type": "display_data"
    },
    {
     "data": {
      "text/plain": [
       "<ggplot: (8777493029133)>"
      ]
     },
     "execution_count": 18,
     "metadata": {},
     "output_type": "execute_result"
    }
   ],
   "source": [
    "# Skip 2011 since there were only 4 posts\n",
    "(ggplot(sentiment_df[sentiment_df['year'] > 2011], aes(x='year', fill='sentiment')) + \n",
    "    geom_bar(position='fill', stat='count') + \n",
    "    ggtitle('Scott Drew Sentiment Over Time') +\n",
    "    ylab('Fraction of Comments') +\n",
    "    xlab('Comment Date'))"
   ]
  },
  {
   "cell_type": "markdown",
   "metadata": {},
   "source": [
    "### Which team's fans talk about Scott Drew the most?\n",
    "This isn't adjusted for number of fans, ideally this would be normalized into a metric like \"scott drew mentions per thousand posts\" or \"millidrews\" for short"
   ]
  },
  {
   "cell_type": "code",
   "execution_count": 19,
   "metadata": {},
   "outputs": [
    {
     "data": {
      "text/html": [
       "<div>\n",
       "<style scoped>\n",
       "    .dataframe tbody tr th:only-of-type {\n",
       "        vertical-align: middle;\n",
       "    }\n",
       "\n",
       "    .dataframe tbody tr th {\n",
       "        vertical-align: top;\n",
       "    }\n",
       "\n",
       "    .dataframe thead th {\n",
       "        text-align: right;\n",
       "    }\n",
       "</style>\n",
       "<table border=\"1\" class=\"dataframe\">\n",
       "  <thead>\n",
       "    <tr style=\"text-align: right;\">\n",
       "      <th></th>\n",
       "      <th>flair</th>\n",
       "    </tr>\n",
       "  </thead>\n",
       "  <tbody>\n",
       "    <tr>\n",
       "      <th>kansas</th>\n",
       "      <td>700</td>\n",
       "    </tr>\n",
       "    <tr>\n",
       "      <th>baylor</th>\n",
       "      <td>365</td>\n",
       "    </tr>\n",
       "    <tr>\n",
       "      <th>iowastate</th>\n",
       "      <td>193</td>\n",
       "    </tr>\n",
       "    <tr>\n",
       "      <th>None</th>\n",
       "      <td>169</td>\n",
       "    </tr>\n",
       "    <tr>\n",
       "      <th>indiana</th>\n",
       "      <td>35</td>\n",
       "    </tr>\n",
       "    <tr>\n",
       "      <th>duke</th>\n",
       "      <td>33</td>\n",
       "    </tr>\n",
       "    <tr>\n",
       "      <th>kansasstate</th>\n",
       "      <td>33</td>\n",
       "    </tr>\n",
       "    <tr>\n",
       "      <th>kentucky</th>\n",
       "      <td>29</td>\n",
       "    </tr>\n",
       "    <tr>\n",
       "      <th>westvirginia</th>\n",
       "      <td>29</td>\n",
       "    </tr>\n",
       "    <tr>\n",
       "      <th>texastech</th>\n",
       "      <td>27</td>\n",
       "    </tr>\n",
       "  </tbody>\n",
       "</table>\n",
       "</div>"
      ],
      "text/plain": [
       "              flair\n",
       "kansas          700\n",
       "baylor          365\n",
       "iowastate       193\n",
       "None            169\n",
       "indiana          35\n",
       "duke             33\n",
       "kansasstate      33\n",
       "kentucky         29\n",
       "westvirginia     29\n",
       "texastech        27"
      ]
     },
     "execution_count": 19,
     "metadata": {},
     "output_type": "execute_result"
    }
   ],
   "source": [
    "comment_df['flair'].value_counts().to_frame().head(10)"
   ]
  }
 ],
 "metadata": {
  "kernelspec": {
   "display_name": "Python 3",
   "language": "python",
   "name": "python3"
  },
  "language_info": {
   "codemirror_mode": {
    "name": "ipython",
    "version": 3
   },
   "file_extension": ".py",
   "mimetype": "text/x-python",
   "name": "python",
   "nbconvert_exporter": "python",
   "pygments_lexer": "ipython3",
   "version": "3.9.2"
  }
 },
 "nbformat": 4,
 "nbformat_minor": 2
}
